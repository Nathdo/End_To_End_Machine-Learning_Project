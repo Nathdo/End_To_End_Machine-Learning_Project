{
 "cells": [
  {
   "cell_type": "markdown",
   "id": "33f078ba-dcb3-47a4-a852-d5c7fff2e40d",
   "metadata": {},
   "source": [
    "# Superstore Marketing Campaign - Analysis (Part1)\n",
    "\n",
    "**Data :** https://www.kaggle.com/datasets/ahsan81/superstore-marketing-campaign-dataset\n",
    "\n",
    "**Background-** A big box is planning the year-end sale. They want to launch a new offer - the Gold Membership, which offers a 20% discount on all purchases, for only $499, or $999 on other days. It will only be valid for existing customers and the phone call campaign is currently being planned for them. Management believes that the best way to reduce the cost of the campaign is to create a predictive model that will rank customers who are likely to purchase the offer.\n",
    "\n",
    "\n",
    "**Objective -** The hypermarket wants to predict the likelihood that the customer will give a positive response and wants to identify the various factors that affect the customer's response. You need to analyze the provided data to identify these factors, then create a prediction model to predict the likelihood of a customer giving a positive response.\n",
    "\n",
    "** Analysis Report :** The analysis report is at the end of the notebook"
   ]
  },
  {
   "cell_type": "markdown",
   "id": "6230a854-b68a-43d5-8122-4b3c50861022",
   "metadata": {},
   "source": [
    "### Columns explanations\n",
    "\n",
    "**Dt_Customer** -> date of registration of the customer in the company\n",
    "\n",
    "**Recency** -> number of days since last purchase\n",
    "\n",
    "**MntWines, MntFruits, MntMeatProducts, MntFishProducts, MntSweetProducts** -> the amount spent on products... in the last 2 years\n",
    "\n",
    "**NumDealsPurchases** -> number of purchases made with discount\n",
    "\n",
    "**NumWebPurchases** -> number of purchases made through the company's website\n",
    "\n",
    "**NumWebVisitsMonth** -> number of **visits** to the company's website in the last month\n",
    "\n",
    "**Complain** -> if the customer has complained in the last 2 years**\n",
    "\n",
    "\n",
    "### Our Target\n",
    "\n",
    "Response -> Target variable - 1 if the customer accepted the offer during the last campaign, 0 otherwise"
   ]
  },
  {
   "cell_type": "code",
   "execution_count": 1,
   "id": "20ff6633-9b26-408e-bfad-68ce38185fd0",
   "metadata": {},
   "outputs": [
    {
     "data": {
      "text/html": [
       "<div>\n",
       "<style scoped>\n",
       "    .dataframe tbody tr th:only-of-type {\n",
       "        vertical-align: middle;\n",
       "    }\n",
       "\n",
       "    .dataframe tbody tr th {\n",
       "        vertical-align: top;\n",
       "    }\n",
       "\n",
       "    .dataframe thead th {\n",
       "        text-align: right;\n",
       "    }\n",
       "</style>\n",
       "<table border=\"1\" class=\"dataframe\">\n",
       "  <thead>\n",
       "    <tr style=\"text-align: right;\">\n",
       "      <th></th>\n",
       "      <th>Id</th>\n",
       "      <th>Year_Birth</th>\n",
       "      <th>Education</th>\n",
       "      <th>Marital_Status</th>\n",
       "      <th>Income</th>\n",
       "      <th>Kidhome</th>\n",
       "      <th>Teenhome</th>\n",
       "      <th>Dt_Customer</th>\n",
       "      <th>Recency</th>\n",
       "      <th>MntWines</th>\n",
       "      <th>...</th>\n",
       "      <th>MntFishProducts</th>\n",
       "      <th>MntSweetProducts</th>\n",
       "      <th>MntGoldProds</th>\n",
       "      <th>NumDealsPurchases</th>\n",
       "      <th>NumWebPurchases</th>\n",
       "      <th>NumCatalogPurchases</th>\n",
       "      <th>NumStorePurchases</th>\n",
       "      <th>NumWebVisitsMonth</th>\n",
       "      <th>Response</th>\n",
       "      <th>Complain</th>\n",
       "    </tr>\n",
       "  </thead>\n",
       "  <tbody>\n",
       "    <tr>\n",
       "      <th>0</th>\n",
       "      <td>1826</td>\n",
       "      <td>1970</td>\n",
       "      <td>Graduation</td>\n",
       "      <td>Divorced</td>\n",
       "      <td>84835.0</td>\n",
       "      <td>0</td>\n",
       "      <td>0</td>\n",
       "      <td>6/16/2014</td>\n",
       "      <td>0</td>\n",
       "      <td>189</td>\n",
       "      <td>...</td>\n",
       "      <td>111</td>\n",
       "      <td>189</td>\n",
       "      <td>218</td>\n",
       "      <td>1</td>\n",
       "      <td>4</td>\n",
       "      <td>4</td>\n",
       "      <td>6</td>\n",
       "      <td>1</td>\n",
       "      <td>1</td>\n",
       "      <td>0</td>\n",
       "    </tr>\n",
       "    <tr>\n",
       "      <th>1</th>\n",
       "      <td>1</td>\n",
       "      <td>1961</td>\n",
       "      <td>Graduation</td>\n",
       "      <td>Single</td>\n",
       "      <td>57091.0</td>\n",
       "      <td>0</td>\n",
       "      <td>0</td>\n",
       "      <td>6/15/2014</td>\n",
       "      <td>0</td>\n",
       "      <td>464</td>\n",
       "      <td>...</td>\n",
       "      <td>7</td>\n",
       "      <td>0</td>\n",
       "      <td>37</td>\n",
       "      <td>1</td>\n",
       "      <td>7</td>\n",
       "      <td>3</td>\n",
       "      <td>7</td>\n",
       "      <td>5</td>\n",
       "      <td>1</td>\n",
       "      <td>0</td>\n",
       "    </tr>\n",
       "    <tr>\n",
       "      <th>2</th>\n",
       "      <td>10476</td>\n",
       "      <td>1958</td>\n",
       "      <td>Graduation</td>\n",
       "      <td>Married</td>\n",
       "      <td>67267.0</td>\n",
       "      <td>0</td>\n",
       "      <td>1</td>\n",
       "      <td>5/13/2014</td>\n",
       "      <td>0</td>\n",
       "      <td>134</td>\n",
       "      <td>...</td>\n",
       "      <td>15</td>\n",
       "      <td>2</td>\n",
       "      <td>30</td>\n",
       "      <td>1</td>\n",
       "      <td>3</td>\n",
       "      <td>2</td>\n",
       "      <td>5</td>\n",
       "      <td>2</td>\n",
       "      <td>0</td>\n",
       "      <td>0</td>\n",
       "    </tr>\n",
       "    <tr>\n",
       "      <th>3</th>\n",
       "      <td>1386</td>\n",
       "      <td>1967</td>\n",
       "      <td>Graduation</td>\n",
       "      <td>Together</td>\n",
       "      <td>32474.0</td>\n",
       "      <td>1</td>\n",
       "      <td>1</td>\n",
       "      <td>11/5/2014</td>\n",
       "      <td>0</td>\n",
       "      <td>10</td>\n",
       "      <td>...</td>\n",
       "      <td>0</td>\n",
       "      <td>0</td>\n",
       "      <td>0</td>\n",
       "      <td>1</td>\n",
       "      <td>1</td>\n",
       "      <td>0</td>\n",
       "      <td>2</td>\n",
       "      <td>7</td>\n",
       "      <td>0</td>\n",
       "      <td>0</td>\n",
       "    </tr>\n",
       "    <tr>\n",
       "      <th>4</th>\n",
       "      <td>5371</td>\n",
       "      <td>1989</td>\n",
       "      <td>Graduation</td>\n",
       "      <td>Single</td>\n",
       "      <td>21474.0</td>\n",
       "      <td>1</td>\n",
       "      <td>0</td>\n",
       "      <td>8/4/2014</td>\n",
       "      <td>0</td>\n",
       "      <td>6</td>\n",
       "      <td>...</td>\n",
       "      <td>11</td>\n",
       "      <td>0</td>\n",
       "      <td>34</td>\n",
       "      <td>2</td>\n",
       "      <td>3</td>\n",
       "      <td>1</td>\n",
       "      <td>2</td>\n",
       "      <td>7</td>\n",
       "      <td>1</td>\n",
       "      <td>0</td>\n",
       "    </tr>\n",
       "  </tbody>\n",
       "</table>\n",
       "<p>5 rows × 22 columns</p>\n",
       "</div>"
      ],
      "text/plain": [
       "      Id  Year_Birth   Education Marital_Status   Income  Kidhome  Teenhome  \\\n",
       "0   1826        1970  Graduation       Divorced  84835.0        0         0   \n",
       "1      1        1961  Graduation         Single  57091.0        0         0   \n",
       "2  10476        1958  Graduation        Married  67267.0        0         1   \n",
       "3   1386        1967  Graduation       Together  32474.0        1         1   \n",
       "4   5371        1989  Graduation         Single  21474.0        1         0   \n",
       "\n",
       "  Dt_Customer  Recency  MntWines  ...  MntFishProducts  MntSweetProducts  \\\n",
       "0   6/16/2014        0       189  ...              111               189   \n",
       "1   6/15/2014        0       464  ...                7                 0   \n",
       "2   5/13/2014        0       134  ...               15                 2   \n",
       "3   11/5/2014        0        10  ...                0                 0   \n",
       "4    8/4/2014        0         6  ...               11                 0   \n",
       "\n",
       "   MntGoldProds  NumDealsPurchases  NumWebPurchases  NumCatalogPurchases  \\\n",
       "0           218                  1                4                    4   \n",
       "1            37                  1                7                    3   \n",
       "2            30                  1                3                    2   \n",
       "3             0                  1                1                    0   \n",
       "4            34                  2                3                    1   \n",
       "\n",
       "   NumStorePurchases  NumWebVisitsMonth  Response  Complain  \n",
       "0                  6                  1         1         0  \n",
       "1                  7                  5         1         0  \n",
       "2                  5                  2         0         0  \n",
       "3                  2                  7         0         0  \n",
       "4                  2                  7         1         0  \n",
       "\n",
       "[5 rows x 22 columns]"
      ]
     },
     "execution_count": 1,
     "metadata": {},
     "output_type": "execute_result"
    }
   ],
   "source": [
    "import pandas as pd\n",
    "import seaborn as sns\n",
    "import matplotlib.pyplot as plt\n",
    "import plotly.express as px\n",
    "import warnings\n",
    "warnings.filterwarnings('ignore')\n",
    "import datetime\n",
    "import numpy as np\n",
    "%matplotlib inline \n",
    "\n",
    "data = pd.read_csv('/Users/nathan/Desktop/Étude Perso/DataSience/Machine Learning Project/superstore_data.csv')\n",
    "data2 = data.copy()\n",
    "data.head()"
   ]
  },
  {
   "cell_type": "code",
   "execution_count": 2,
   "id": "424d5610-9163-4346-a204-ac8140a01773",
   "metadata": {},
   "outputs": [
    {
     "data": {
      "text/plain": [
       "(2240, 22)"
      ]
     },
     "execution_count": 2,
     "metadata": {},
     "output_type": "execute_result"
    }
   ],
   "source": [
    "data.shape"
   ]
  },
  {
   "cell_type": "code",
   "execution_count": 3,
   "id": "3d6fa5c1-0c6d-44c7-9ebc-5d0f808bb4e9",
   "metadata": {},
   "outputs": [
    {
     "data": {
      "text/plain": [
       "Index(['Id', 'Year_Birth', 'Education', 'Marital_Status', 'Income', 'Kidhome',\n",
       "       'Teenhome', 'Dt_Customer', 'Recency', 'MntWines', 'MntFruits',\n",
       "       'MntMeatProducts', 'MntFishProducts', 'MntSweetProducts',\n",
       "       'MntGoldProds', 'NumDealsPurchases', 'NumWebPurchases',\n",
       "       'NumCatalogPurchases', 'NumStorePurchases', 'NumWebVisitsMonth',\n",
       "       'Response', 'Complain'],\n",
       "      dtype='object')"
      ]
     },
     "execution_count": 3,
     "metadata": {},
     "output_type": "execute_result"
    }
   ],
   "source": [
    "data.columns"
   ]
  },
  {
   "cell_type": "code",
   "execution_count": 4,
   "id": "741392e3-8c7b-4744-9812-fcd041282410",
   "metadata": {},
   "outputs": [
    {
     "data": {
      "text/plain": [
       "0"
      ]
     },
     "execution_count": 4,
     "metadata": {},
     "output_type": "execute_result"
    }
   ],
   "source": [
    "data[data.duplicated()].count().sum()     # no duplicate value"
   ]
  },
  {
   "cell_type": "code",
   "execution_count": 5,
   "id": "b67709b8-4464-405e-b494-1cb9ab41390f",
   "metadata": {},
   "outputs": [
    {
     "data": {
      "text/plain": [
       "int64      18\n",
       "object      3\n",
       "float64     1\n",
       "dtype: int64"
      ]
     },
     "execution_count": 5,
     "metadata": {},
     "output_type": "execute_result"
    }
   ],
   "source": [
    "data.dtypes.value_counts()"
   ]
  },
  {
   "cell_type": "code",
   "execution_count": 6,
   "id": "8175b98d-23fa-4a7c-8f58-1e6267e54731",
   "metadata": {},
   "outputs": [
    {
     "data": {
      "text/plain": [
       "Id                      0\n",
       "Year_Birth              0\n",
       "Education               0\n",
       "Marital_Status          0\n",
       "Income                 24\n",
       "Kidhome                 0\n",
       "Teenhome                0\n",
       "Dt_Customer             0\n",
       "Recency                 0\n",
       "MntWines                0\n",
       "MntFruits               0\n",
       "MntMeatProducts         0\n",
       "MntFishProducts         0\n",
       "MntSweetProducts        0\n",
       "MntGoldProds            0\n",
       "NumDealsPurchases       0\n",
       "NumWebPurchases         0\n",
       "NumCatalogPurchases     0\n",
       "NumStorePurchases       0\n",
       "NumWebVisitsMonth       0\n",
       "Response                0\n",
       "Complain                0\n",
       "dtype: int64"
      ]
     },
     "execution_count": 6,
     "metadata": {},
     "output_type": "execute_result"
    }
   ],
   "source": [
    "data.isnull().sum()    # only income column has missing values (24). "
   ]
  },
  {
   "cell_type": "markdown",
   "id": "34851c37-ddb8-41e3-a494-560be4591b8b",
   "metadata": {
    "tags": []
   },
   "source": [
    "## Cleaning Dataset"
   ]
  },
  {
   "cell_type": "code",
   "execution_count": 7,
   "id": "24f5e7c6-da0c-4c7d-b86f-ea95d35e8f5a",
   "metadata": {},
   "outputs": [
    {
     "data": {
      "text/plain": [
       "int64             18\n",
       "object             2\n",
       "float64            1\n",
       "datetime64[ns]     1\n",
       "dtype: int64"
      ]
     },
     "execution_count": 7,
     "metadata": {},
     "output_type": "execute_result"
    }
   ],
   "source": [
    "# change Dt_Customer column to datetime\n",
    "\n",
    "data['Dt_Customer'] = pd.to_datetime(data.Dt_Customer)      \n",
    "data.dtypes.value_counts()"
   ]
  },
  {
   "cell_type": "code",
   "execution_count": 8,
   "id": "dae34a95-d72f-46b6-a3c0-aeba7557ab69",
   "metadata": {},
   "outputs": [],
   "source": [
    "# add age column instead of date of birth\n",
    "\n",
    "currentDateTime = datetime.datetime.now()\n",
    "date = currentDateTime.date()\n",
    "year = date.strftime(\"%Y\")"
   ]
  },
  {
   "cell_type": "code",
   "execution_count": 9,
   "id": "b9089da8-099c-473b-847c-99a142738342",
   "metadata": {},
   "outputs": [],
   "source": [
    "data['Customer_age'] = int(year) - data.Year_Birth \n",
    "data.drop('Year_Birth', axis = 1, inplace = True)"
   ]
  },
  {
   "cell_type": "code",
   "execution_count": 10,
   "id": "c6ed40e4-25df-4a3e-a7ce-4185bc358264",
   "metadata": {},
   "outputs": [
    {
     "data": {
      "text/html": [
       "<div>\n",
       "<style scoped>\n",
       "    .dataframe tbody tr th:only-of-type {\n",
       "        vertical-align: middle;\n",
       "    }\n",
       "\n",
       "    .dataframe tbody tr th {\n",
       "        vertical-align: top;\n",
       "    }\n",
       "\n",
       "    .dataframe thead th {\n",
       "        text-align: right;\n",
       "    }\n",
       "</style>\n",
       "<table border=\"1\" class=\"dataframe\">\n",
       "  <thead>\n",
       "    <tr style=\"text-align: right;\">\n",
       "      <th></th>\n",
       "      <th>Id</th>\n",
       "      <th>Education</th>\n",
       "      <th>Marital_Status</th>\n",
       "      <th>Income</th>\n",
       "      <th>Kidhome</th>\n",
       "      <th>Teenhome</th>\n",
       "      <th>Dt_Customer</th>\n",
       "      <th>Recency</th>\n",
       "      <th>MntWines</th>\n",
       "      <th>MntFruits</th>\n",
       "      <th>...</th>\n",
       "      <th>MntSweetProducts</th>\n",
       "      <th>MntGoldProds</th>\n",
       "      <th>NumDealsPurchases</th>\n",
       "      <th>NumWebPurchases</th>\n",
       "      <th>NumCatalogPurchases</th>\n",
       "      <th>NumStorePurchases</th>\n",
       "      <th>NumWebVisitsMonth</th>\n",
       "      <th>Response</th>\n",
       "      <th>Complain</th>\n",
       "      <th>Customer_age</th>\n",
       "    </tr>\n",
       "  </thead>\n",
       "  <tbody>\n",
       "    <tr>\n",
       "      <th>0</th>\n",
       "      <td>1826</td>\n",
       "      <td>Graduation</td>\n",
       "      <td>Divorced</td>\n",
       "      <td>84835.0</td>\n",
       "      <td>0</td>\n",
       "      <td>0</td>\n",
       "      <td>2014-06-16</td>\n",
       "      <td>0</td>\n",
       "      <td>189</td>\n",
       "      <td>104</td>\n",
       "      <td>...</td>\n",
       "      <td>189</td>\n",
       "      <td>218</td>\n",
       "      <td>1</td>\n",
       "      <td>4</td>\n",
       "      <td>4</td>\n",
       "      <td>6</td>\n",
       "      <td>1</td>\n",
       "      <td>1</td>\n",
       "      <td>0</td>\n",
       "      <td>53</td>\n",
       "    </tr>\n",
       "    <tr>\n",
       "      <th>1</th>\n",
       "      <td>1</td>\n",
       "      <td>Graduation</td>\n",
       "      <td>Single</td>\n",
       "      <td>57091.0</td>\n",
       "      <td>0</td>\n",
       "      <td>0</td>\n",
       "      <td>2014-06-15</td>\n",
       "      <td>0</td>\n",
       "      <td>464</td>\n",
       "      <td>5</td>\n",
       "      <td>...</td>\n",
       "      <td>0</td>\n",
       "      <td>37</td>\n",
       "      <td>1</td>\n",
       "      <td>7</td>\n",
       "      <td>3</td>\n",
       "      <td>7</td>\n",
       "      <td>5</td>\n",
       "      <td>1</td>\n",
       "      <td>0</td>\n",
       "      <td>62</td>\n",
       "    </tr>\n",
       "    <tr>\n",
       "      <th>2</th>\n",
       "      <td>10476</td>\n",
       "      <td>Graduation</td>\n",
       "      <td>Married</td>\n",
       "      <td>67267.0</td>\n",
       "      <td>0</td>\n",
       "      <td>1</td>\n",
       "      <td>2014-05-13</td>\n",
       "      <td>0</td>\n",
       "      <td>134</td>\n",
       "      <td>11</td>\n",
       "      <td>...</td>\n",
       "      <td>2</td>\n",
       "      <td>30</td>\n",
       "      <td>1</td>\n",
       "      <td>3</td>\n",
       "      <td>2</td>\n",
       "      <td>5</td>\n",
       "      <td>2</td>\n",
       "      <td>0</td>\n",
       "      <td>0</td>\n",
       "      <td>65</td>\n",
       "    </tr>\n",
       "    <tr>\n",
       "      <th>3</th>\n",
       "      <td>1386</td>\n",
       "      <td>Graduation</td>\n",
       "      <td>Together</td>\n",
       "      <td>32474.0</td>\n",
       "      <td>1</td>\n",
       "      <td>1</td>\n",
       "      <td>2014-11-05</td>\n",
       "      <td>0</td>\n",
       "      <td>10</td>\n",
       "      <td>0</td>\n",
       "      <td>...</td>\n",
       "      <td>0</td>\n",
       "      <td>0</td>\n",
       "      <td>1</td>\n",
       "      <td>1</td>\n",
       "      <td>0</td>\n",
       "      <td>2</td>\n",
       "      <td>7</td>\n",
       "      <td>0</td>\n",
       "      <td>0</td>\n",
       "      <td>56</td>\n",
       "    </tr>\n",
       "    <tr>\n",
       "      <th>4</th>\n",
       "      <td>5371</td>\n",
       "      <td>Graduation</td>\n",
       "      <td>Single</td>\n",
       "      <td>21474.0</td>\n",
       "      <td>1</td>\n",
       "      <td>0</td>\n",
       "      <td>2014-08-04</td>\n",
       "      <td>0</td>\n",
       "      <td>6</td>\n",
       "      <td>16</td>\n",
       "      <td>...</td>\n",
       "      <td>0</td>\n",
       "      <td>34</td>\n",
       "      <td>2</td>\n",
       "      <td>3</td>\n",
       "      <td>1</td>\n",
       "      <td>2</td>\n",
       "      <td>7</td>\n",
       "      <td>1</td>\n",
       "      <td>0</td>\n",
       "      <td>34</td>\n",
       "    </tr>\n",
       "  </tbody>\n",
       "</table>\n",
       "<p>5 rows × 22 columns</p>\n",
       "</div>"
      ],
      "text/plain": [
       "      Id   Education Marital_Status   Income  Kidhome  Teenhome Dt_Customer  \\\n",
       "0   1826  Graduation       Divorced  84835.0        0         0  2014-06-16   \n",
       "1      1  Graduation         Single  57091.0        0         0  2014-06-15   \n",
       "2  10476  Graduation        Married  67267.0        0         1  2014-05-13   \n",
       "3   1386  Graduation       Together  32474.0        1         1  2014-11-05   \n",
       "4   5371  Graduation         Single  21474.0        1         0  2014-08-04   \n",
       "\n",
       "   Recency  MntWines  MntFruits  ...  MntSweetProducts  MntGoldProds  \\\n",
       "0        0       189        104  ...               189           218   \n",
       "1        0       464          5  ...                 0            37   \n",
       "2        0       134         11  ...                 2            30   \n",
       "3        0        10          0  ...                 0             0   \n",
       "4        0         6         16  ...                 0            34   \n",
       "\n",
       "   NumDealsPurchases  NumWebPurchases  NumCatalogPurchases  NumStorePurchases  \\\n",
       "0                  1                4                    4                  6   \n",
       "1                  1                7                    3                  7   \n",
       "2                  1                3                    2                  5   \n",
       "3                  1                1                    0                  2   \n",
       "4                  2                3                    1                  2   \n",
       "\n",
       "   NumWebVisitsMonth  Response  Complain  Customer_age  \n",
       "0                  1         1         0            53  \n",
       "1                  5         1         0            62  \n",
       "2                  2         0         0            65  \n",
       "3                  7         0         0            56  \n",
       "4                  7         1         0            34  \n",
       "\n",
       "[5 rows x 22 columns]"
      ]
     },
     "execution_count": 10,
     "metadata": {},
     "output_type": "execute_result"
    }
   ],
   "source": [
    "data.head()"
   ]
  },
  {
   "cell_type": "markdown",
   "id": "ebc54b7d-66d8-462f-a509-c831cf5251fb",
   "metadata": {
    "tags": []
   },
   "source": [
    "## Age variable"
   ]
  },
  {
   "cell_type": "code",
   "execution_count": 11,
   "id": "2a87b920-35d6-4f81-85c6-9f218fd44ebe",
   "metadata": {},
   "outputs": [
    {
     "data": {
      "text/plain": [
       "count    2240.000000\n",
       "mean       54.194196\n",
       "std        11.984069\n",
       "min        27.000000\n",
       "25%        46.000000\n",
       "50%        53.000000\n",
       "75%        64.000000\n",
       "max       130.000000\n",
       "Name: Customer_age, dtype: float64"
      ]
     },
     "execution_count": 11,
     "metadata": {},
     "output_type": "execute_result"
    }
   ],
   "source": [
    "data.describe().Customer_age"
   ]
  },
  {
   "cell_type": "code",
   "execution_count": 12,
   "id": "81d36966-c8c4-4197-a20c-9bfed926d199",
   "metadata": {},
   "outputs": [
    {
     "data": {
      "image/png": "[encoded data removed]",
      "text/plain": [
       "<Figure size 864x288 with 1 Axes>"
      ]
     },
     "metadata": {
      "needs_background": "light"
     },
     "output_type": "display_data"
    }
   ],
   "source": [
    "plt.figure(figsize = [12,4])\n",
    "sns.histplot(data.Customer_age, kde = True, color = 'blue')\n",
    "plt.title('Age Histogram', size = 20);"
   ]
  },
  {
   "cell_type": "code",
   "execution_count": 13,
   "id": "ff043ec6-7771-4e18-8818-bb91dd8c164b",
   "metadata": {},
   "outputs": [
    {
     "data": {
      "image/png": "[encoded data removed]",
      "text/plain": [
       "<Figure size 864x288 with 1 Axes>"
      ]
     },
     "metadata": {
      "needs_background": "light"
     },
     "output_type": "display_data"
    }
   ],
   "source": [
    "plt.figure(figsize = [12,4])\n",
    "sns.boxplot(data.Customer_age)\n",
    "plt.title('Potential Outliers (age)', size = 20);"
   ]
  },
  {
   "cell_type": "code",
   "execution_count": 14,
   "id": "0e553f84-9617-4815-9f23-d8b51f2b04c0",
   "metadata": {},
   "outputs": [],
   "source": [
    "# z-score function\n",
    "def z_score(column, threshold) -> list :\n",
    "    \n",
    "    outlier = []\n",
    "    mean = column.mean()\n",
    "    std = column.std()\n",
    "    \n",
    "    for element in column:\n",
    "        zscore = (element - mean) / std\n",
    "        if np.abs(zscore) > threshold :\n",
    "            outlier.append(element)\n",
    "    return outlier"
   ]
  },
  {
   "cell_type": "code",
   "execution_count": 15,
   "id": "e707c24d-45b1-471a-919f-767262b143e5",
   "metadata": {},
   "outputs": [
    {
     "data": {
      "text/plain": [
       "[130, 124, 123]"
      ]
     },
     "execution_count": 15,
     "metadata": {},
     "output_type": "execute_result"
    }
   ],
   "source": [
    "z_score(data['Customer_age'], 3)"
   ]
  },
  {
   "cell_type": "code",
   "execution_count": 16,
   "id": "c08144d5-a1c7-417f-8f49-f5866563f144",
   "metadata": {},
   "outputs": [
    {
     "name": "stdout",
     "output_type": "stream",
     "text": [
      "513 130\n",
      "827 124\n",
      "2233 123\n"
     ]
    }
   ],
   "source": [
    "for i, element in enumerate(data.Customer_age):    # take index of thoses values\n",
    "      if element > 110:                        # we see that we have 3 outliers (age of 130, 124, 123) which are impossible (incoherent).\n",
    "        print(i, element)   "
   ]
  },
  {
   "cell_type": "code",
   "execution_count": 17,
   "id": "953fcbb0-8507-4c5c-9138-abc3f1f95338",
   "metadata": {},
   "outputs": [],
   "source": [
    "data.drop([513, 827, 2233], axis = 0, inplace = True)"
   ]
  },
  {
   "cell_type": "code",
   "execution_count": 18,
   "id": "7fd737a4-3cb6-45f6-933c-24f508d09517",
   "metadata": {},
   "outputs": [],
   "source": [
    "data_positive_response = data[data.Response == 1]\n",
    "data_negative_response = data[data.Response == 0]"
   ]
  },
  {
   "cell_type": "code",
   "execution_count": 19,
   "id": "b5d9d6c0-2e15-4109-a9ef-baa35f14ea04",
   "metadata": {},
   "outputs": [
    {
     "data": {
      "text/plain": [
       "count    334.000000\n",
       "mean      53.583832\n",
       "std       12.398192\n",
       "min       27.000000\n",
       "25%       44.000000\n",
       "50%       52.000000\n",
       "75%       64.000000\n",
       "max       80.000000\n",
       "Name: Customer_age, dtype: float64"
      ]
     },
     "execution_count": 19,
     "metadata": {},
     "output_type": "execute_result"
    }
   ],
   "source": [
    "data_positive_response.describe().Customer_age"
   ]
  },
  {
   "cell_type": "code",
   "execution_count": 20,
   "id": "01387b84-8418-4e53-8971-055f99804ebe",
   "metadata": {},
   "outputs": [
    {
     "data": {
      "text/plain": [
       "count    1903.000000\n",
       "mean       54.188650\n",
       "std        11.576456\n",
       "min        27.000000\n",
       "25%        46.000000\n",
       "50%        53.000000\n",
       "75%        64.000000\n",
       "max        83.000000\n",
       "Name: Customer_age, dtype: float64"
      ]
     },
     "execution_count": 20,
     "metadata": {},
     "output_type": "execute_result"
    }
   ],
   "source": [
    "data_negative_response.describe().Customer_age"
   ]
  },
  {
   "cell_type": "markdown",
   "id": "91d1b62d-2110-4269-8624-89f55a67ce7f",
   "metadata": {},
   "source": [
    "The age of an average / median of people who gave a positive answer is similar to those who gave a negative answer and is 53-54."
   ]
  },
  {
   "cell_type": "markdown",
   "id": "ee9b1e66-0b15-4a0f-9dc2-b1f8bc9f9274",
   "metadata": {
    "tags": []
   },
   "source": [
    "### Does the number of purchases through a specific channel influence membership in the 'Gold' subscription?"
   ]
  },
  {
   "cell_type": "markdown",
   "id": "15ddf5e5-51ec-44ff-8960-1fbd08a07660",
   "metadata": {},
   "source": [
    "As column we have `NumWebPurchases`,`NumCatalogPurchases`, `NumStorePurchases`:\n",
    "* Number of purchases by the company's website.\n",
    "* Number of purchases made using the catalog (purchase of goods to be mailed)\n",
    "* Number of purchases made at the company store."
   ]
  },
  {
   "cell_type": "code",
   "execution_count": 21,
   "id": "30c77692-e272-4f43-90f4-0bc5d184362b",
   "metadata": {},
   "outputs": [
    {
     "data": {
      "text/html": [
       "<div>\n",
       "<style scoped>\n",
       "    .dataframe tbody tr th:only-of-type {\n",
       "        vertical-align: middle;\n",
       "    }\n",
       "\n",
       "    .dataframe tbody tr th {\n",
       "        vertical-align: top;\n",
       "    }\n",
       "\n",
       "    .dataframe thead tr th {\n",
       "        text-align: left;\n",
       "    }\n",
       "\n",
       "    .dataframe thead tr:last-of-type th {\n",
       "        text-align: right;\n",
       "    }\n",
       "</style>\n",
       "<table border=\"1\" class=\"dataframe\">\n",
       "  <thead>\n",
       "    <tr>\n",
       "      <th></th>\n",
       "      <th colspan=\"3\" halign=\"left\">NumWebPurchases</th>\n",
       "      <th colspan=\"3\" halign=\"left\">NumCatalogPurchases</th>\n",
       "      <th colspan=\"3\" halign=\"left\">NumStorePurchases</th>\n",
       "    </tr>\n",
       "    <tr>\n",
       "      <th></th>\n",
       "      <th>mean</th>\n",
       "      <th>median</th>\n",
       "      <th>max</th>\n",
       "      <th>mean</th>\n",
       "      <th>median</th>\n",
       "      <th>max</th>\n",
       "      <th>mean</th>\n",
       "      <th>median</th>\n",
       "      <th>max</th>\n",
       "    </tr>\n",
       "    <tr>\n",
       "      <th>Response</th>\n",
       "      <th></th>\n",
       "      <th></th>\n",
       "      <th></th>\n",
       "      <th></th>\n",
       "      <th></th>\n",
       "      <th></th>\n",
       "      <th></th>\n",
       "      <th></th>\n",
       "      <th></th>\n",
       "    </tr>\n",
       "  </thead>\n",
       "  <tbody>\n",
       "    <tr>\n",
       "      <th>0</th>\n",
       "      <td>3.914346</td>\n",
       "      <td>3.0</td>\n",
       "      <td>27</td>\n",
       "      <td>2.392013</td>\n",
       "      <td>1.0</td>\n",
       "      <td>28</td>\n",
       "      <td>5.741461</td>\n",
       "      <td>5.0</td>\n",
       "      <td>13</td>\n",
       "    </tr>\n",
       "    <tr>\n",
       "      <th>1</th>\n",
       "      <td>5.071856</td>\n",
       "      <td>5.0</td>\n",
       "      <td>11</td>\n",
       "      <td>4.203593</td>\n",
       "      <td>4.0</td>\n",
       "      <td>11</td>\n",
       "      <td>6.095808</td>\n",
       "      <td>6.0</td>\n",
       "      <td>13</td>\n",
       "    </tr>\n",
       "  </tbody>\n",
       "</table>\n",
       "</div>"
      ],
      "text/plain": [
       "         NumWebPurchases            NumCatalogPurchases             \\\n",
       "                    mean median max                mean median max   \n",
       "Response                                                             \n",
       "0               3.914346    3.0  27            2.392013    1.0  28   \n",
       "1               5.071856    5.0  11            4.203593    4.0  11   \n",
       "\n",
       "         NumStorePurchases             \n",
       "                      mean median max  \n",
       "Response                               \n",
       "0                 5.741461    5.0  13  \n",
       "1                 6.095808    6.0  13  "
      ]
     },
     "execution_count": 21,
     "metadata": {},
     "output_type": "execute_result"
    }
   ],
   "source": [
    "data.groupby('Response')[['NumWebPurchases', 'NumCatalogPurchases', 'NumStorePurchases']].agg(['mean', 'median', 'max'])"
   ]
  },
  {
   "cell_type": "code",
   "execution_count": 22,
   "id": "05f207c8-c6c7-4998-81db-8564c14c51e9",
   "metadata": {},
   "outputs": [
    {
     "data": {
      "image/png": "[encoded data removed]",
      "text/plain": [
       "<Figure size 864x180 with 1 Axes>"
      ]
     },
     "metadata": {
      "needs_background": "light"
     },
     "output_type": "display_data"
    },
    {
     "data": {
      "image/png": "[encoded data removed]",
      "text/plain": [
       "<Figure size 864x180 with 1 Axes>"
      ]
     },
     "metadata": {
      "needs_background": "light"
     },
     "output_type": "display_data"
    },
    {
     "data": {
      "image/png": "[encoded data removed]",
      "text/plain": [
       "<Figure size 864x180 with 1 Axes>"
      ]
     },
     "metadata": {
      "needs_background": "light"
     },
     "output_type": "display_data"
    }
   ],
   "source": [
    "plt.figure(figsize = [12,2.5])\n",
    "sns.boxplot(data_negative_response.NumWebPurchases, color = 'red')\n",
    "plt.title('Number Web Purchases Ouliers', size = 15)\n",
    "\n",
    "plt.figure(figsize = [12,2.5])\n",
    "plt.title('Number Catalog Purchases Ouliers', size = 15)\n",
    "sns.boxplot(data_negative_response.NumCatalogPurchases, color = 'red')\n",
    "\n",
    "plt.figure(figsize = [12,2.5])\n",
    "plt.title('Number Store Purchases Ouliers', size = 15)\n",
    "sns.boxplot(data_negative_response.NumStorePurchases, color = 'red');  "
   ]
  },
  {
   "cell_type": "markdown",
   "id": "6cb749ac-f901-4598-9132-53728660b1eb",
   "metadata": {},
   "source": [
    "We can see that in both categories: 'NumWeb Purchases', 'Num Catalog Purchases', we have outliers, which leads us to measure the median and not the mean"
   ]
  },
  {
   "cell_type": "code",
   "execution_count": 23,
   "id": "7cb4f267-aeb8-4f88-bf5c-4e67bdefec1a",
   "metadata": {},
   "outputs": [
    {
     "data": {
      "image/png": "[encoded data removed]",
      "text/plain": [
       "<Figure size 1800x432 with 1 Axes>"
      ]
     },
     "metadata": {
      "needs_background": "light"
     },
     "output_type": "display_data"
    }
   ],
   "source": [
    "num_purchases = data.groupby('Response')[['NumWebPurchases', 'NumCatalogPurchases', 'NumStorePurchases']].agg('median')\n",
    "num_purchases.plot.bar(figsize=(25,6), color = ['lightcoral', 'cyan', 'magenta'])\n",
    "plt.xlabel('Yes / No : Gold Subscription',size = 15)\n",
    "plt.ylabel('Median', size = 15)\n",
    "plt.title('Median of purchase', size = 23)\n",
    "plt.xticks(rotation = 360);"
   ]
  },
  {
   "cell_type": "markdown",
   "id": "a69bc8fe-510c-4647-a236-e9e98b4f05e1",
   "metadata": {
    "tags": []
   },
   "source": [
    "## Complain / Purchase\n",
    "### Those who complained still have several purchases in their assets?"
   ]
  },
  {
   "cell_type": "code",
   "execution_count": 24,
   "id": "c33f0036-220b-48d8-95a8-5940e39a257c",
   "metadata": {},
   "outputs": [
    {
     "data": {
      "text/plain": [
       "array([0, 1])"
      ]
     },
     "execution_count": 24,
     "metadata": {},
     "output_type": "execute_result"
    }
   ],
   "source": [
    "data.Complain.unique()"
   ]
  },
  {
   "cell_type": "code",
   "execution_count": 25,
   "id": "92c65a62-0c03-4f8a-980a-ea98b2a32c4f",
   "metadata": {},
   "outputs": [
    {
     "data": {
      "text/plain": [
       "0    2217\n",
       "1      20\n",
       "Name: Complain, dtype: int64"
      ]
     },
     "execution_count": 25,
     "metadata": {},
     "output_type": "execute_result"
    }
   ],
   "source": [
    "data.Complain.value_counts()"
   ]
  },
  {
   "cell_type": "code",
   "execution_count": 26,
   "id": "147ff61b-dd25-40eb-a207-b90b3555471e",
   "metadata": {},
   "outputs": [
    {
     "data": {
      "text/html": [
       "<div>\n",
       "<style scoped>\n",
       "    .dataframe tbody tr th:only-of-type {\n",
       "        vertical-align: middle;\n",
       "    }\n",
       "\n",
       "    .dataframe tbody tr th {\n",
       "        vertical-align: top;\n",
       "    }\n",
       "\n",
       "    .dataframe thead tr th {\n",
       "        text-align: left;\n",
       "    }\n",
       "\n",
       "    .dataframe thead tr:last-of-type th {\n",
       "        text-align: right;\n",
       "    }\n",
       "</style>\n",
       "<table border=\"1\" class=\"dataframe\">\n",
       "  <thead>\n",
       "    <tr>\n",
       "      <th></th>\n",
       "      <th>NumWebPurchases</th>\n",
       "      <th>NumCatalogPurchases</th>\n",
       "      <th>NumStorePurchases</th>\n",
       "    </tr>\n",
       "    <tr>\n",
       "      <th></th>\n",
       "      <th>mean</th>\n",
       "      <th>mean</th>\n",
       "      <th>mean</th>\n",
       "    </tr>\n",
       "    <tr>\n",
       "      <th>Complain</th>\n",
       "      <th></th>\n",
       "      <th></th>\n",
       "      <th></th>\n",
       "    </tr>\n",
       "  </thead>\n",
       "  <tbody>\n",
       "    <tr>\n",
       "      <th>0</th>\n",
       "      <td>4.090663</td>\n",
       "      <td>2.667569</td>\n",
       "      <td>5.797925</td>\n",
       "    </tr>\n",
       "    <tr>\n",
       "      <th>1</th>\n",
       "      <td>3.700000</td>\n",
       "      <td>2.100000</td>\n",
       "      <td>5.400000</td>\n",
       "    </tr>\n",
       "  </tbody>\n",
       "</table>\n",
       "</div>"
      ],
      "text/plain": [
       "         NumWebPurchases NumCatalogPurchases NumStorePurchases\n",
       "                    mean                mean              mean\n",
       "Complain                                                      \n",
       "0               4.090663            2.667569          5.797925\n",
       "1               3.700000            2.100000          5.400000"
      ]
     },
     "execution_count": 26,
     "metadata": {},
     "output_type": "execute_result"
    }
   ],
   "source": [
    "data.groupby('Complain')['NumWebPurchases', 'NumCatalogPurchases', 'NumStorePurchases'].agg(['mean'])"
   ]
  },
  {
   "cell_type": "markdown",
   "id": "a1e7c782-752c-4a91-9725-3b7bbf0a140f",
   "metadata": {},
   "source": [
    "We can see that those who complained still bought products and the number of purchases they made is very similar to those who did not complain (it would seem that people's complaints did not have a influence on their future purchase)"
   ]
  },
  {
   "cell_type": "markdown",
   "id": "d7f8b582-da4b-485f-9721-bfa22a175f4b",
   "metadata": {
    "tags": []
   },
   "source": [
    "## Complain / Response\n",
    "\n",
    "### Is there a correlation between these two variables?"
   ]
  },
  {
   "cell_type": "markdown",
   "id": "d066d516-4cab-419a-9bdb-7f921603145f",
   "metadata": {},
   "source": [
    "Explanation of the `pearson` metric:\n",
    "\n",
    "The smaller the value of p, the lower the probability of making an error in rejecting the null hypothesis. A limit value of 0.05 is often used. That is, you can reject the null hypothesis if the p-value is less than 0.05.\n",
    "\n",
    "\n",
    "The Pearson coefficient measures the level of correlation between the two variables. It returns a value between -1 and 1. If it is close to 1 it means that the variables are correlated, close to 0 that the variables are uncorrelated and close to -1 that they are negatively correlated. "
   ]
  },
  {
   "cell_type": "code",
   "execution_count": 27,
   "id": "c4127434-ba67-4662-b382-99abae830647",
   "metadata": {},
   "outputs": [
    {
     "data": {
      "text/html": [
       "<div>\n",
       "<style scoped>\n",
       "    .dataframe tbody tr th:only-of-type {\n",
       "        vertical-align: middle;\n",
       "    }\n",
       "\n",
       "    .dataframe tbody tr th {\n",
       "        vertical-align: top;\n",
       "    }\n",
       "\n",
       "    .dataframe thead th {\n",
       "        text-align: right;\n",
       "    }\n",
       "</style>\n",
       "<table border=\"1\" class=\"dataframe\">\n",
       "  <thead>\n",
       "    <tr style=\"text-align: right;\">\n",
       "      <th></th>\n",
       "      <th>Test Result</th>\n",
       "    </tr>\n",
       "  </thead>\n",
       "  <tbody>\n",
       "    <tr>\n",
       "      <th>Test Coeff</th>\n",
       "      <td>0.000185</td>\n",
       "    </tr>\n",
       "    <tr>\n",
       "      <th>P-Value</th>\n",
       "      <td>0.993035</td>\n",
       "    </tr>\n",
       "  </tbody>\n",
       "</table>\n",
       "</div>"
      ],
      "text/plain": [
       "            Test Result\n",
       "Test Coeff     0.000185\n",
       "P-Value        0.993035"
      ]
     },
     "execution_count": 27,
     "metadata": {},
     "output_type": "execute_result"
    }
   ],
   "source": [
    "from scipy.stats import pearsonr\n",
    "\n",
    "pd.DataFrame(pearsonr(data.Complain, data.Response), index = ['Test Coeff', 'P-Value'], columns=['Test Result'])"
   ]
  },
  {
   "cell_type": "markdown",
   "id": "b37055e0-6fc4-4993-bfba-b98247a21a4f",
   "metadata": {},
   "source": [
    "**Conclusion:** the p-value is greater than 5%. We deduce that the variables are not dependent on each other (can be independent). The coefficient has a value of 0.000185 which means that the variables are not correlated (which the p-Value was able to show us above)."
   ]
  },
  {
   "cell_type": "markdown",
   "id": "4bd3fce4-409d-420e-955e-d3283a0c82ba",
   "metadata": {
    "tags": []
   },
   "source": [
    "## Dt_Customer / Purchase\n",
    "\n",
    "### What are the most prolific months? / Are the oldest customers the most buyers?"
   ]
  },
  {
   "cell_type": "code",
   "execution_count": 28,
   "id": "3437cf75-cb2f-406a-916b-e46d552ef104",
   "metadata": {},
   "outputs": [
    {
     "data": {
      "text/plain": [
       "array([2014, 2013, 2012])"
      ]
     },
     "execution_count": 28,
     "metadata": {},
     "output_type": "execute_result"
    }
   ],
   "source": [
    "data.Dt_Customer.dt.year.unique()  # about what year are we talking about"
   ]
  },
  {
   "cell_type": "code",
   "execution_count": 29,
   "id": "7c00b5cf-1529-4a73-aa8b-0554dd4c6bb3",
   "metadata": {},
   "outputs": [],
   "source": [
    "data['Total_Purchases'] = data[['NumCatalogPurchases', 'NumStorePurchases', 'NumWebPurchases', 'NumDealsPurchases']].apply(sum, axis = 1) # all purchases"
   ]
  },
  {
   "cell_type": "code",
   "execution_count": 30,
   "id": "e4326657-8860-4b04-98bf-9a3ab0146e9a",
   "metadata": {},
   "outputs": [],
   "source": [
    "data['Year_Subscription'] = data.Dt_Customer.dt.year\n",
    "data['Month_Subscription'] = data.Dt_Customer.dt.month_name()"
   ]
  },
  {
   "cell_type": "code",
   "execution_count": 31,
   "id": "cb3cfc13-ff54-4b46-8076-aa8f31cc35b9",
   "metadata": {},
   "outputs": [
    {
     "data": {
      "text/html": [
       "<div>\n",
       "<style scoped>\n",
       "    .dataframe tbody tr th:only-of-type {\n",
       "        vertical-align: middle;\n",
       "    }\n",
       "\n",
       "    .dataframe tbody tr th {\n",
       "        vertical-align: top;\n",
       "    }\n",
       "\n",
       "    .dataframe thead th {\n",
       "        text-align: right;\n",
       "    }\n",
       "</style>\n",
       "<table border=\"1\" class=\"dataframe\">\n",
       "  <thead>\n",
       "    <tr style=\"text-align: right;\">\n",
       "      <th></th>\n",
       "      <th>Id</th>\n",
       "      <th>Education</th>\n",
       "      <th>Marital_Status</th>\n",
       "      <th>Income</th>\n",
       "      <th>Kidhome</th>\n",
       "      <th>Teenhome</th>\n",
       "      <th>Dt_Customer</th>\n",
       "      <th>Recency</th>\n",
       "      <th>MntWines</th>\n",
       "      <th>MntFruits</th>\n",
       "      <th>...</th>\n",
       "      <th>NumWebPurchases</th>\n",
       "      <th>NumCatalogPurchases</th>\n",
       "      <th>NumStorePurchases</th>\n",
       "      <th>NumWebVisitsMonth</th>\n",
       "      <th>Response</th>\n",
       "      <th>Complain</th>\n",
       "      <th>Customer_age</th>\n",
       "      <th>Total_Purchases</th>\n",
       "      <th>Year_Subscription</th>\n",
       "      <th>Month_Subscription</th>\n",
       "    </tr>\n",
       "  </thead>\n",
       "  <tbody>\n",
       "    <tr>\n",
       "      <th>0</th>\n",
       "      <td>1826</td>\n",
       "      <td>Graduation</td>\n",
       "      <td>Divorced</td>\n",
       "      <td>84835.0</td>\n",
       "      <td>0</td>\n",
       "      <td>0</td>\n",
       "      <td>2014-06-16</td>\n",
       "      <td>0</td>\n",
       "      <td>189</td>\n",
       "      <td>104</td>\n",
       "      <td>...</td>\n",
       "      <td>4</td>\n",
       "      <td>4</td>\n",
       "      <td>6</td>\n",
       "      <td>1</td>\n",
       "      <td>1</td>\n",
       "      <td>0</td>\n",
       "      <td>53</td>\n",
       "      <td>15</td>\n",
       "      <td>2014</td>\n",
       "      <td>June</td>\n",
       "    </tr>\n",
       "    <tr>\n",
       "      <th>1</th>\n",
       "      <td>1</td>\n",
       "      <td>Graduation</td>\n",
       "      <td>Single</td>\n",
       "      <td>57091.0</td>\n",
       "      <td>0</td>\n",
       "      <td>0</td>\n",
       "      <td>2014-06-15</td>\n",
       "      <td>0</td>\n",
       "      <td>464</td>\n",
       "      <td>5</td>\n",
       "      <td>...</td>\n",
       "      <td>7</td>\n",
       "      <td>3</td>\n",
       "      <td>7</td>\n",
       "      <td>5</td>\n",
       "      <td>1</td>\n",
       "      <td>0</td>\n",
       "      <td>62</td>\n",
       "      <td>18</td>\n",
       "      <td>2014</td>\n",
       "      <td>June</td>\n",
       "    </tr>\n",
       "    <tr>\n",
       "      <th>2</th>\n",
       "      <td>10476</td>\n",
       "      <td>Graduation</td>\n",
       "      <td>Married</td>\n",
       "      <td>67267.0</td>\n",
       "      <td>0</td>\n",
       "      <td>1</td>\n",
       "      <td>2014-05-13</td>\n",
       "      <td>0</td>\n",
       "      <td>134</td>\n",
       "      <td>11</td>\n",
       "      <td>...</td>\n",
       "      <td>3</td>\n",
       "      <td>2</td>\n",
       "      <td>5</td>\n",
       "      <td>2</td>\n",
       "      <td>0</td>\n",
       "      <td>0</td>\n",
       "      <td>65</td>\n",
       "      <td>11</td>\n",
       "      <td>2014</td>\n",
       "      <td>May</td>\n",
       "    </tr>\n",
       "    <tr>\n",
       "      <th>3</th>\n",
       "      <td>1386</td>\n",
       "      <td>Graduation</td>\n",
       "      <td>Together</td>\n",
       "      <td>32474.0</td>\n",
       "      <td>1</td>\n",
       "      <td>1</td>\n",
       "      <td>2014-11-05</td>\n",
       "      <td>0</td>\n",
       "      <td>10</td>\n",
       "      <td>0</td>\n",
       "      <td>...</td>\n",
       "      <td>1</td>\n",
       "      <td>0</td>\n",
       "      <td>2</td>\n",
       "      <td>7</td>\n",
       "      <td>0</td>\n",
       "      <td>0</td>\n",
       "      <td>56</td>\n",
       "      <td>4</td>\n",
       "      <td>2014</td>\n",
       "      <td>November</td>\n",
       "    </tr>\n",
       "    <tr>\n",
       "      <th>4</th>\n",
       "      <td>5371</td>\n",
       "      <td>Graduation</td>\n",
       "      <td>Single</td>\n",
       "      <td>21474.0</td>\n",
       "      <td>1</td>\n",
       "      <td>0</td>\n",
       "      <td>2014-08-04</td>\n",
       "      <td>0</td>\n",
       "      <td>6</td>\n",
       "      <td>16</td>\n",
       "      <td>...</td>\n",
       "      <td>3</td>\n",
       "      <td>1</td>\n",
       "      <td>2</td>\n",
       "      <td>7</td>\n",
       "      <td>1</td>\n",
       "      <td>0</td>\n",
       "      <td>34</td>\n",
       "      <td>8</td>\n",
       "      <td>2014</td>\n",
       "      <td>August</td>\n",
       "    </tr>\n",
       "  </tbody>\n",
       "</table>\n",
       "<p>5 rows × 25 columns</p>\n",
       "</div>"
      ],
      "text/plain": [
       "      Id   Education Marital_Status   Income  Kidhome  Teenhome Dt_Customer  \\\n",
       "0   1826  Graduation       Divorced  84835.0        0         0  2014-06-16   \n",
       "1      1  Graduation         Single  57091.0        0         0  2014-06-15   \n",
       "2  10476  Graduation        Married  67267.0        0         1  2014-05-13   \n",
       "3   1386  Graduation       Together  32474.0        1         1  2014-11-05   \n",
       "4   5371  Graduation         Single  21474.0        1         0  2014-08-04   \n",
       "\n",
       "   Recency  MntWines  MntFruits  ...  NumWebPurchases  NumCatalogPurchases  \\\n",
       "0        0       189        104  ...                4                    4   \n",
       "1        0       464          5  ...                7                    3   \n",
       "2        0       134         11  ...                3                    2   \n",
       "3        0        10          0  ...                1                    0   \n",
       "4        0         6         16  ...                3                    1   \n",
       "\n",
       "   NumStorePurchases  NumWebVisitsMonth  Response  Complain  Customer_age  \\\n",
       "0                  6                  1         1         0            53   \n",
       "1                  7                  5         1         0            62   \n",
       "2                  5                  2         0         0            65   \n",
       "3                  2                  7         0         0            56   \n",
       "4                  2                  7         1         0            34   \n",
       "\n",
       "   Total_Purchases  Year_Subscription  Month_Subscription  \n",
       "0               15               2014                June  \n",
       "1               18               2014                June  \n",
       "2               11               2014                 May  \n",
       "3                4               2014            November  \n",
       "4                8               2014              August  \n",
       "\n",
       "[5 rows x 25 columns]"
      ]
     },
     "execution_count": 31,
     "metadata": {},
     "output_type": "execute_result"
    }
   ],
   "source": [
    "data.head()"
   ]
  },
  {
   "cell_type": "code",
   "execution_count": 32,
   "id": "7c4f9212-99cc-423c-9519-44a4065a703d",
   "metadata": {},
   "outputs": [
    {
     "data": {
      "text/plain": [
       "Month_Subscription\n",
       "August       3210\n",
       "October      3052\n",
       "January      3017\n",
       "December     2991\n",
       "November     2903\n",
       "February     2886\n",
       "May          2883\n",
       "March        2845\n",
       "September    2544\n",
       "April        2498\n",
       "June         2353\n",
       "July         2084\n",
       "Name: Total_Purchases, dtype: int64"
      ]
     },
     "execution_count": 32,
     "metadata": {},
     "output_type": "execute_result"
    }
   ],
   "source": [
    "data.groupby('Month_Subscription')['Total_Purchases'].sum().sort_values(ascending = False)"
   ]
  },
  {
   "cell_type": "code",
   "execution_count": 33,
   "id": "09103afa-a23f-4a3d-aced-bb0faf90bc74",
   "metadata": {},
   "outputs": [
    {
     "data": {
      "image/png": "[encoded data removed]",
      "text/plain": [
       "<Figure size 1080x288 with 1 Axes>"
      ]
     },
     "metadata": {
      "needs_background": "light"
     },
     "output_type": "display_data"
    }
   ],
   "source": [
    "plt.figure(figsize = [15,4])\n",
    "plt.title('Total Purchases by Months', size = 20, color = 'red',  fontdict={'fontsize': 14, 'fontweight': 'bold'})\n",
    "plt.ylabel('Total Purchases', size = 12, color = 'red')\n",
    "plt.xlabel('Month Subscription', size = 12, color = 'red')\n",
    "data.groupby('Month_Subscription')['Total_Purchases'].sum().sort_values(ascending = False).plot.bar(color = 'salmon');"
   ]
  },
  {
   "cell_type": "markdown",
   "id": "39f7e260-f0aa-40d7-8904-b56cc66ff44f",
   "metadata": {},
   "source": [
    "**Conclusion:** We see that the month of August (we can also include the months October, January and December) is a month where customers make the most purchases. It would therefore be interesting to offer the 'Gold' offer in one of these months (months to avoid: June - July)."
   ]
  },
  {
   "cell_type": "code",
   "execution_count": 34,
   "id": "01a0f0a1-f2c0-4b21-8d6f-bb7a23c47404",
   "metadata": {},
   "outputs": [
    {
     "name": "stdout",
     "output_type": "stream",
     "text": [
      "Year_Subscription\n",
      "2013    17827\n",
      "2012     8319\n",
      "2014     7120\n",
      "Name: Total_Purchases, dtype: int64\n"
     ]
    },
    {
     "data": {
      "image/png": "[encoded data removed]",
      "text/plain": [
       "<Figure size 1080x360 with 1 Axes>"
      ]
     },
     "metadata": {},
     "output_type": "display_data"
    }
   ],
   "source": [
    "print(data.groupby('Year_Subscription')['Total_Purchases'].sum().sort_values(ascending = False))\n",
    "\n",
    "fig, ax = plt.subplots(figsize = [15,5])\n",
    "colors = sns.color_palette('pastel')[0:5]\n",
    "ax.pie(data.groupby('Year_Subscription')['Total_Purchases'].sum().sort_values(ascending = False), colors = colors, autopct='%.0f%%')\n",
    "# fig.set_facecolor('lightgray')\n",
    "fig.set_facecolor('#008080')  # vert bleuté\n",
    "ax.set_title('Purchases based on Subscription', size = 15, fontdict={'fontsize': 14, 'fontweight': 'bold'})\n",
    "ax.legend(['2013', '2012', '2014']);"
   ]
  },
  {
   "cell_type": "markdown",
   "id": "0b574afa-5b36-4fec-a5f4-c821391b3dd5",
   "metadata": {},
   "source": [
    "**Conclusion:** We can see that customers who signed up in 2013 have more than twice as many orders in their assets as those who signed up in 2012 or 2014"
   ]
  },
  {
   "cell_type": "markdown",
   "id": "9ebb068b-6ff0-4f17-b80e-b01e79c7a9c0",
   "metadata": {
    "tags": []
   },
   "source": [
    "## MntWines, MntFruits, MntMeatProducts, MntFishProducts, MntSweetProducts\n",
    "\n",
    "### What are the most purchased products in the last two years?"
   ]
  },
  {
   "cell_type": "code",
   "execution_count": 35,
   "id": "fa38eb52-5ea8-4dab-8556-9905ecbcfdaa",
   "metadata": {},
   "outputs": [
    {
     "name": "stdout",
     "output_type": "stream",
     "text": [
      "MntFruits            58767\n",
      "MntSweetProducts     60553\n",
      "MntFishProducts      83939\n",
      "MntMeatProducts     373393\n",
      "MntWines            680038\n",
      "dtype: int64\n"
     ]
    },
    {
     "data": {
      "image/png": "[encoded data removed]",
      "text/plain": [
       "<Figure size 1440x360 with 1 Axes>"
      ]
     },
     "metadata": {},
     "output_type": "display_data"
    }
   ],
   "source": [
    "products = data[['MntWines', 'MntFruits', 'MntMeatProducts', 'MntFishProducts', 'MntSweetProducts']].apply(sum).sort_values(ascending = True)\n",
    "print(products)\n",
    "plt.style.use('seaborn-darkgrid')\n",
    "plt.figure(figsize = [20,5])\n",
    "plt.title('Total purchase per category', size = 18, fontdict={'fontsize': 14, 'fontweight': 'bold'}, color = 'green')\n",
    "products.plot.barh(color = 'lightgreen');"
   ]
  },
  {
   "cell_type": "markdown",
   "id": "8abf34d2-3097-4b52-84b9-5baf5fa4603a",
   "metadata": {},
   "source": [
    "**Conclusion:** We note that wines are by far the most purchased products followed by meat (almost twice a month) followed by far by fish, sweet products and fruits."
   ]
  },
  {
   "cell_type": "markdown",
   "id": "f37b6fb7-167b-4c64-8cbe-cbfb2fb732a5",
   "metadata": {},
   "source": [
    "### From which category come the customers who have joined the 'Gold' project the most?"
   ]
  },
  {
   "cell_type": "code",
   "execution_count": 36,
   "id": "f355a01a-d401-422a-af3f-5f4253435d04",
   "metadata": {},
   "outputs": [
    {
     "data": {
      "text/html": [
       "<div>\n",
       "<style scoped>\n",
       "    .dataframe tbody tr th:only-of-type {\n",
       "        vertical-align: middle;\n",
       "    }\n",
       "\n",
       "    .dataframe tbody tr th {\n",
       "        vertical-align: top;\n",
       "    }\n",
       "\n",
       "    .dataframe thead th {\n",
       "        text-align: right;\n",
       "    }\n",
       "</style>\n",
       "<table border=\"1\" class=\"dataframe\">\n",
       "  <thead>\n",
       "    <tr style=\"text-align: right;\">\n",
       "      <th></th>\n",
       "      <th>MntWines</th>\n",
       "      <th>MntFruits</th>\n",
       "      <th>MntMeatProducts</th>\n",
       "      <th>MntFishProducts</th>\n",
       "      <th>MntSweetProducts</th>\n",
       "    </tr>\n",
       "    <tr>\n",
       "      <th>Response</th>\n",
       "      <th></th>\n",
       "      <th></th>\n",
       "      <th></th>\n",
       "      <th></th>\n",
       "      <th></th>\n",
       "    </tr>\n",
       "  </thead>\n",
       "  <tbody>\n",
       "    <tr>\n",
       "      <th>0</th>\n",
       "      <td>512135</td>\n",
       "      <td>46007</td>\n",
       "      <td>275079</td>\n",
       "      <td>66554</td>\n",
       "      <td>47649</td>\n",
       "    </tr>\n",
       "    <tr>\n",
       "      <th>1</th>\n",
       "      <td>167903</td>\n",
       "      <td>12760</td>\n",
       "      <td>98314</td>\n",
       "      <td>17385</td>\n",
       "      <td>12904</td>\n",
       "    </tr>\n",
       "  </tbody>\n",
       "</table>\n",
       "</div>"
      ],
      "text/plain": [
       "          MntWines  MntFruits  MntMeatProducts  MntFishProducts  \\\n",
       "Response                                                          \n",
       "0           512135      46007           275079            66554   \n",
       "1           167903      12760            98314            17385   \n",
       "\n",
       "          MntSweetProducts  \n",
       "Response                    \n",
       "0                    47649  \n",
       "1                    12904  "
      ]
     },
     "execution_count": 36,
     "metadata": {},
     "output_type": "execute_result"
    }
   ],
   "source": [
    "cat = data.groupby('Response')[['MntWines', 'MntFruits', 'MntMeatProducts', 'MntFishProducts', 'MntSweetProducts']].sum()\n",
    "cat"
   ]
  },
  {
   "cell_type": "code",
   "execution_count": 58,
   "id": "6cfa2d77-01bf-4367-9919-edd30c763e59",
   "metadata": {},
   "outputs": [
    {
     "data": {
      "image/png": "[encoded data removed]",
      "text/plain": [
       "<Figure size 1440x360 with 1 Axes>"
      ]
     },
     "metadata": {},
     "output_type": "display_data"
    }
   ],
   "source": [
    "cat.plot.bar(figsize = [20,5], color = ['orange', 'yellowgreen', 'purple','gold', 'fuchsia'])\n",
    "plt.xticks(rotation = 360)\n",
    "plt.title('Category of buyers who have subscribed the most to the \"Gold\" subscription', \n",
    "          size = 25, color = 'orange', \n",
    "          fontdict={'fontsize': 14, 'fontweight': 'medium'},\n",
    "          fontfamily = 'arial');"
   ]
  },
  {
   "cell_type": "markdown",
   "id": "da629376-dba5-4986-a1be-a8a19953b677",
   "metadata": {},
   "source": [
    "**Conclusion:** We see that those who joined the 'Gold' project follow the logic of the biggest buyers. That is to say it is the consumers of wine in the first place then those of meat..."
   ]
  },
  {
   "cell_type": "markdown",
   "id": "83294533-e0cf-4d10-9a18-8cc2b57044dc",
   "metadata": {
    "tags": []
   },
   "source": [
    "## Income / Response\n",
    "\n",
    "### Are those with the highest income those who will necessarily subscribe to the 'Gold' project?"
   ]
  },
  {
   "cell_type": "code",
   "execution_count": 38,
   "id": "0e4ea1bd-4919-4b56-83af-5c9d2d63667c",
   "metadata": {},
   "outputs": [
    {
     "data": {
      "text/plain": [
       "count      2213.000000\n",
       "mean      52236.581563\n",
       "std       25178.603047\n",
       "min        1730.000000\n",
       "25%       35246.000000\n",
       "50%       51373.000000\n",
       "75%       68487.000000\n",
       "max      666666.000000\n",
       "Name: Income, dtype: float64"
      ]
     },
     "execution_count": 38,
     "metadata": {},
     "output_type": "execute_result"
    }
   ],
   "source": [
    "data.Income.describe()"
   ]
  },
  {
   "cell_type": "code",
   "execution_count": 39,
   "id": "5a7f1160-da82-4424-a9cb-6fcab253af4b",
   "metadata": {},
   "outputs": [
    {
     "data": {
      "text/plain": [
       "(50150.0, 64090.0)"
      ]
     },
     "execution_count": 39,
     "metadata": {},
     "output_type": "execute_result"
    }
   ],
   "source": [
    "data_negative_response.Income.median(), data_positive_response.Income.median()"
   ]
  },
  {
   "cell_type": "code",
   "execution_count": 40,
   "id": "bdd763fd-34ca-49bf-9a72-4c36f5896d49",
   "metadata": {},
   "outputs": [
    {
     "data": {
      "text/plain": [
       "(666666.0, 666666.0, 105471.0)"
      ]
     },
     "execution_count": 40,
     "metadata": {},
     "output_type": "execute_result"
    }
   ],
   "source": [
    "data.Income.max(), data_negative_response.Income.max(), data_positive_response.Income.max()"
   ]
  },
  {
   "cell_type": "markdown",
   "id": "616db94d-9cd9-4e24-9386-021596980cd9",
   "metadata": {},
   "source": [
    "We see that the people who have the most substantial income are those who have subscribed to the 'Gold' project. On average, people with incomes over $64,000 are more likely to join. **Beware, however, of this conclusion and the extreme values because, for example, the person with the highest income from this table has not taken out a subscription.**"
   ]
  },
  {
   "cell_type": "code",
   "execution_count": 41,
   "id": "b44cace2-563a-406f-8d60-4be22b7f4657",
   "metadata": {},
   "outputs": [
    {
     "name": "stdout",
     "output_type": "stream",
     "text": [
      "537 people have incomes above the median salary of those who joined the Gold project : 24.01.%\n"
     ]
    }
   ],
   "source": [
    "count = 0\n",
    "for element in data_negative_response.Income.to_list():\n",
    "    if element  > data_positive_response.Income.median():\n",
    "        count += 1\n",
    "print(f'{count} people have incomes above the median salary of those who joined the Gold project : {round((count/data.shape[0])*100, 2)}.%')"
   ]
  },
  {
   "cell_type": "markdown",
   "id": "318f1f94-4235-4d18-aa99-c5357be86854",
   "metadata": {},
   "source": [
    "### Are those who have the biggest income the biggest buyers?"
   ]
  },
  {
   "cell_type": "code",
   "execution_count": 42,
   "id": "f8265673-3da8-4226-b420-e67d457f7c25",
   "metadata": {},
   "outputs": [
    {
     "data": {
      "text/plain": [
       "51373.0"
      ]
     },
     "execution_count": 42,
     "metadata": {},
     "output_type": "execute_result"
    }
   ],
   "source": [
    "data.Income.median()"
   ]
  },
  {
   "cell_type": "code",
   "execution_count": 43,
   "id": "8f2b6107-3675-4beb-8af8-c31a744b05da",
   "metadata": {},
   "outputs": [],
   "source": [
    "income_above_median = data.query('Income > Income.median()')\n",
    "income_under_median = data.query('Income < Income.median()')"
   ]
  },
  {
   "cell_type": "code",
   "execution_count": 44,
   "id": "1fc7c737-e25e-4a37-a234-a2387f038cbe",
   "metadata": {},
   "outputs": [
    {
     "name": "stdout",
     "output_type": "stream",
     "text": [
      "The total purchases of those with income above the median is: 22411 purchases\n",
      "The total purchases of those with income under the median is: 10528 purchases\n",
      "Those with income above the median buy 2.13 as much\n"
     ]
    }
   ],
   "source": [
    "total = lambda x : x.sum()\n",
    "\n",
    "print(f'The total purchases of those with income above the median is: {total(income_above_median.Total_Purchases)} purchases')\n",
    "print(f'The total purchases of those with income under the median is: {total(income_under_median.Total_Purchases)} purchases')\n",
    "print(f'Those with income above the median buy {round(total(income_above_median.Total_Purchases) / total(income_under_median.Total_Purchases),2)} as much')"
   ]
  },
  {
   "cell_type": "markdown",
   "id": "a7e91fbf-91fd-457d-9bde-3ad2c3787dce",
   "metadata": {},
   "source": [
    "We see that people with high incomes have the most purchases under their belt."
   ]
  },
  {
   "cell_type": "markdown",
   "id": "a418ebae-2602-44b1-8885-5353032286e6",
   "metadata": {},
   "source": [
    "## Kidhome / MntProducts\n",
    "\n",
    "### Do children / teenagers impact customers on their consumption?"
   ]
  },
  {
   "cell_type": "markdown",
   "id": "b59e6d36-3fd1-417d-85ab-575799590de6",
   "metadata": {
    "tags": []
   },
   "source": [
    "### 1.Kids"
   ]
  },
  {
   "cell_type": "code",
   "execution_count": 45,
   "id": "5b9cffb8-a804-468a-ad19-14bfcdea2b44",
   "metadata": {},
   "outputs": [
    {
     "data": {
      "text/plain": [
       "array([0, 1, 2])"
      ]
     },
     "execution_count": 45,
     "metadata": {},
     "output_type": "execute_result"
    }
   ],
   "source": [
    "data.Kidhome.unique()"
   ]
  },
  {
   "cell_type": "code",
   "execution_count": 46,
   "id": "f543be6f-c080-4b17-bf08-d1b4fe217634",
   "metadata": {},
   "outputs": [
    {
     "data": {
      "text/html": [
       "<div>\n",
       "<style scoped>\n",
       "    .dataframe tbody tr th:only-of-type {\n",
       "        vertical-align: middle;\n",
       "    }\n",
       "\n",
       "    .dataframe tbody tr th {\n",
       "        vertical-align: top;\n",
       "    }\n",
       "\n",
       "    .dataframe thead th {\n",
       "        text-align: right;\n",
       "    }\n",
       "</style>\n",
       "<table border=\"1\" class=\"dataframe\">\n",
       "  <thead>\n",
       "    <tr style=\"text-align: right;\">\n",
       "      <th></th>\n",
       "      <th>MntWines</th>\n",
       "      <th>MntFruits</th>\n",
       "      <th>MntMeatProducts</th>\n",
       "      <th>MntFishProducts</th>\n",
       "      <th>MntSweetProducts</th>\n",
       "    </tr>\n",
       "    <tr>\n",
       "      <th>Kidhome</th>\n",
       "      <th></th>\n",
       "      <th></th>\n",
       "      <th></th>\n",
       "      <th></th>\n",
       "      <th></th>\n",
       "    </tr>\n",
       "  </thead>\n",
       "  <tbody>\n",
       "    <tr>\n",
       "      <th>0</th>\n",
       "      <td>582604</td>\n",
       "      <td>50791</td>\n",
       "      <td>327850</td>\n",
       "      <td>72507</td>\n",
       "      <td>52301</td>\n",
       "    </tr>\n",
       "    <tr>\n",
       "      <th>1</th>\n",
       "      <td>93844</td>\n",
       "      <td>7651</td>\n",
       "      <td>43919</td>\n",
       "      <td>11061</td>\n",
       "      <td>8026</td>\n",
       "    </tr>\n",
       "    <tr>\n",
       "      <th>2</th>\n",
       "      <td>3590</td>\n",
       "      <td>325</td>\n",
       "      <td>1624</td>\n",
       "      <td>371</td>\n",
       "      <td>226</td>\n",
       "    </tr>\n",
       "  </tbody>\n",
       "</table>\n",
       "</div>"
      ],
      "text/plain": [
       "         MntWines  MntFruits  MntMeatProducts  MntFishProducts  \\\n",
       "Kidhome                                                          \n",
       "0          582604      50791           327850            72507   \n",
       "1           93844       7651            43919            11061   \n",
       "2            3590        325             1624              371   \n",
       "\n",
       "         MntSweetProducts  \n",
       "Kidhome                    \n",
       "0                   52301  \n",
       "1                    8026  \n",
       "2                     226  "
      ]
     },
     "execution_count": 46,
     "metadata": {},
     "output_type": "execute_result"
    }
   ],
   "source": [
    "kid = data.groupby('Kidhome')[['MntWines', 'MntFruits', 'MntMeatProducts', 'MntFishProducts', 'MntSweetProducts']].sum()\n",
    "kid"
   ]
  },
  {
   "cell_type": "code",
   "execution_count": 47,
   "id": "06d2e876-6478-4694-9716-bcaa033f4503",
   "metadata": {},
   "outputs": [
    {
     "name": "stdout",
     "output_type": "stream",
     "text": [
      "The total purchases of customers who have 0 children constitute only 70.27.% of the sum of purchases.\n",
      "The total purchases of customers who have 1 children constitute only 28.32.% of the sum of purchases.\n",
      "The total purchases of customers who have 2 children constitute only 1.41.% of the sum of purchases.\n"
     ]
    }
   ],
   "source": [
    "percent_puchase_kid = lambda x : (data[data['Kidhome'] == x].Total_Purchases.sum() / data.Total_Purchases.sum()) * 100\n",
    "\n",
    "for i in range(3):\n",
    "    print(f'The total purchases of customers who have {i} children constitute only {round(percent_puchase_kid(i), 2)}.% of the sum of purchases.')"
   ]
  },
  {
   "cell_type": "code",
   "execution_count": 48,
   "id": "b75877f3-b360-4879-b878-3561c250fbac",
   "metadata": {},
   "outputs": [
    {
     "data": {
      "image/png": "[encoded data removed]",
      "text/plain": [
       "<Figure size 1800x432 with 1 Axes>"
      ]
     },
     "metadata": {},
     "output_type": "display_data"
    }
   ],
   "source": [
    "kid.plot.bar(figsize = [25,6])\n",
    "plt.xticks(rotation = 360)\n",
    "plt.xlabel('Number of children at home', size = 15, color = 'orange')\n",
    "plt.ylabel('Total Purchases', size = 15, color = 'orange')\n",
    "plt.legend(fontsize = 13)\n",
    "plt.title('The huge Impact of the children\\'s number on consumers', size = 27, color = 'orange');"
   ]
  },
  {
   "cell_type": "code",
   "execution_count": 49,
   "id": "df5b74d4-b563-4208-9847-0fb9995b72c6",
   "metadata": {},
   "outputs": [
    {
     "data": {
      "text/html": [
       "<div>\n",
       "<style scoped>\n",
       "    .dataframe tbody tr th:only-of-type {\n",
       "        vertical-align: middle;\n",
       "    }\n",
       "\n",
       "    .dataframe tbody tr th {\n",
       "        vertical-align: top;\n",
       "    }\n",
       "\n",
       "    .dataframe thead th {\n",
       "        text-align: right;\n",
       "    }\n",
       "</style>\n",
       "<table border=\"1\" class=\"dataframe\">\n",
       "  <thead>\n",
       "    <tr style=\"text-align: right;\">\n",
       "      <th></th>\n",
       "      <th>Kidhome</th>\n",
       "      <th>MntWines</th>\n",
       "      <th>MntFruits</th>\n",
       "      <th>MntMeatProducts</th>\n",
       "      <th>MntFishProducts</th>\n",
       "      <th>MntSweetProducts</th>\n",
       "      <th>Total</th>\n",
       "    </tr>\n",
       "  </thead>\n",
       "  <tbody>\n",
       "    <tr>\n",
       "      <th>0</th>\n",
       "      <td>0</td>\n",
       "      <td>582604</td>\n",
       "      <td>50791</td>\n",
       "      <td>327850</td>\n",
       "      <td>72507</td>\n",
       "      <td>52301</td>\n",
       "      <td>1086053</td>\n",
       "    </tr>\n",
       "    <tr>\n",
       "      <th>1</th>\n",
       "      <td>1</td>\n",
       "      <td>93844</td>\n",
       "      <td>7651</td>\n",
       "      <td>43919</td>\n",
       "      <td>11061</td>\n",
       "      <td>8026</td>\n",
       "      <td>164501</td>\n",
       "    </tr>\n",
       "    <tr>\n",
       "      <th>2</th>\n",
       "      <td>2</td>\n",
       "      <td>3590</td>\n",
       "      <td>325</td>\n",
       "      <td>1624</td>\n",
       "      <td>371</td>\n",
       "      <td>226</td>\n",
       "      <td>6136</td>\n",
       "    </tr>\n",
       "  </tbody>\n",
       "</table>\n",
       "</div>"
      ],
      "text/plain": [
       "   Kidhome  MntWines  MntFruits  MntMeatProducts  MntFishProducts  \\\n",
       "0        0    582604      50791           327850            72507   \n",
       "1        1     93844       7651            43919            11061   \n",
       "2        2      3590        325             1624              371   \n",
       "\n",
       "   MntSweetProducts    Total  \n",
       "0             52301  1086053  \n",
       "1              8026   164501  \n",
       "2               226     6136  "
      ]
     },
     "execution_count": 49,
     "metadata": {},
     "output_type": "execute_result"
    }
   ],
   "source": [
    "df_kid = data.groupby('Kidhome')[['MntWines', 'MntFruits', 'MntMeatProducts', 'MntFishProducts', 'MntSweetProducts']].sum().reset_index()\n",
    "df_kid['Total'] = df_kid[['MntWines', 'MntFruits', 'MntMeatProducts', 'MntFishProducts', 'MntSweetProducts']].apply(sum, axis = 1)\n",
    "df_kid"
   ]
  },
  {
   "cell_type": "markdown",
   "id": "5e1b4125-5ecc-49e1-8b99-c15ba50fa40c",
   "metadata": {},
   "source": [
    "**Conclusion:** We see that there is a huge impact that the number of children creates on customer purchases. Customers without children make up 70% of total purchases! Those with 1 child make up 28% of the total, while those with 2 children make up **only** 1.4% of the total!"
   ]
  },
  {
   "cell_type": "markdown",
   "id": "e6d0a5bf-f8fa-4e9e-ac90-e06fb7c060b7",
   "metadata": {
    "tags": []
   },
   "source": [
    "### 2.Teenagers"
   ]
  },
  {
   "cell_type": "code",
   "execution_count": 50,
   "id": "511cfa79-0593-4dff-a51d-a46f6119fa3f",
   "metadata": {},
   "outputs": [
    {
     "data": {
      "text/html": [
       "<div>\n",
       "<style scoped>\n",
       "    .dataframe tbody tr th:only-of-type {\n",
       "        vertical-align: middle;\n",
       "    }\n",
       "\n",
       "    .dataframe tbody tr th {\n",
       "        vertical-align: top;\n",
       "    }\n",
       "\n",
       "    .dataframe thead th {\n",
       "        text-align: right;\n",
       "    }\n",
       "</style>\n",
       "<table border=\"1\" class=\"dataframe\">\n",
       "  <thead>\n",
       "    <tr style=\"text-align: right;\">\n",
       "      <th></th>\n",
       "      <th>MntWines</th>\n",
       "      <th>MntFruits</th>\n",
       "      <th>MntMeatProducts</th>\n",
       "      <th>MntFishProducts</th>\n",
       "      <th>MntSweetProducts</th>\n",
       "    </tr>\n",
       "    <tr>\n",
       "      <th>Teenhome</th>\n",
       "      <th></th>\n",
       "      <th></th>\n",
       "      <th></th>\n",
       "      <th></th>\n",
       "      <th></th>\n",
       "    </tr>\n",
       "  </thead>\n",
       "  <tbody>\n",
       "    <tr>\n",
       "      <th>0</th>\n",
       "      <td>352215</td>\n",
       "      <td>38423</td>\n",
       "      <td>262435</td>\n",
       "      <td>56235</td>\n",
       "      <td>38877</td>\n",
       "    </tr>\n",
       "    <tr>\n",
       "      <th>1</th>\n",
       "      <td>309002</td>\n",
       "      <td>19433</td>\n",
       "      <td>104470</td>\n",
       "      <td>26461</td>\n",
       "      <td>20840</td>\n",
       "    </tr>\n",
       "    <tr>\n",
       "      <th>2</th>\n",
       "      <td>18821</td>\n",
       "      <td>911</td>\n",
       "      <td>6488</td>\n",
       "      <td>1243</td>\n",
       "      <td>836</td>\n",
       "    </tr>\n",
       "  </tbody>\n",
       "</table>\n",
       "</div>"
      ],
      "text/plain": [
       "          MntWines  MntFruits  MntMeatProducts  MntFishProducts  \\\n",
       "Teenhome                                                          \n",
       "0           352215      38423           262435            56235   \n",
       "1           309002      19433           104470            26461   \n",
       "2            18821        911             6488             1243   \n",
       "\n",
       "          MntSweetProducts  \n",
       "Teenhome                    \n",
       "0                    38877  \n",
       "1                    20840  \n",
       "2                      836  "
      ]
     },
     "execution_count": 50,
     "metadata": {},
     "output_type": "execute_result"
    }
   ],
   "source": [
    "teen = data.groupby('Teenhome')[['MntWines', 'MntFruits', 'MntMeatProducts', 'MntFishProducts', 'MntSweetProducts']].sum()\n",
    "teen"
   ]
  },
  {
   "cell_type": "code",
   "execution_count": 51,
   "id": "a828238d-37b7-4558-a302-99267c58561b",
   "metadata": {},
   "outputs": [
    {
     "name": "stdout",
     "output_type": "stream",
     "text": [
      "The total purchases of customers who have 0 teenagers constitute only 48.25.% of the sum of purchases.\n",
      "The total purchases of customers who have 1 teenagers constitute only 49.1.% of the sum of purchases.\n",
      "The total purchases of customers who have 2 teenagers constitute only 2.65.% of the sum of purchases.\n"
     ]
    }
   ],
   "source": [
    "percent_puchase_teen = lambda x : (data[data['Teenhome'] == x].Total_Purchases.sum() / data.Total_Purchases.sum()) * 100\n",
    "\n",
    "for i in range(3):\n",
    "    print(f'The total purchases of customers who have {i} teenagers constitute only {round(percent_puchase_teen(i), 2)}.% of the sum of purchases.')"
   ]
  },
  {
   "cell_type": "code",
   "execution_count": 56,
   "id": "32abcc45-f852-4be1-b4e6-059110d7857b",
   "metadata": {},
   "outputs": [
    {
     "data": {
      "image/png": "[encoded data removed]",
      "text/plain": [
       "<Figure size 1800x432 with 1 Axes>"
      ]
     },
     "metadata": {},
     "output_type": "display_data"
    }
   ],
   "source": [
    "teen.plot.bar(figsize = [25,6])\n",
    "plt.xticks(rotation = 360)\n",
    "plt.xlabel('Number of teenager at home', size = 15, color = 'orange')\n",
    "plt.ylabel('Total Purchases', size = 15, color = 'orange')\n",
    "plt.legend(fontsize = 13)\n",
    "plt.title('The huge Impact of the teeneger\\'s number on consumers', size = 27, color = 'green');"
   ]
  },
  {
   "cell_type": "code",
   "execution_count": 53,
   "id": "a30d88d5-8f63-4c71-9396-b5f2c7ecaf50",
   "metadata": {},
   "outputs": [
    {
     "data": {
      "text/html": [
       "<div>\n",
       "<style scoped>\n",
       "    .dataframe tbody tr th:only-of-type {\n",
       "        vertical-align: middle;\n",
       "    }\n",
       "\n",
       "    .dataframe tbody tr th {\n",
       "        vertical-align: top;\n",
       "    }\n",
       "\n",
       "    .dataframe thead th {\n",
       "        text-align: right;\n",
       "    }\n",
       "</style>\n",
       "<table border=\"1\" class=\"dataframe\">\n",
       "  <thead>\n",
       "    <tr style=\"text-align: right;\">\n",
       "      <th></th>\n",
       "      <th>Teenhome</th>\n",
       "      <th>MntWines</th>\n",
       "      <th>MntFruits</th>\n",
       "      <th>MntMeatProducts</th>\n",
       "      <th>MntFishProducts</th>\n",
       "      <th>MntSweetProducts</th>\n",
       "      <th>Total</th>\n",
       "    </tr>\n",
       "  </thead>\n",
       "  <tbody>\n",
       "    <tr>\n",
       "      <th>0</th>\n",
       "      <td>0</td>\n",
       "      <td>352215</td>\n",
       "      <td>38423</td>\n",
       "      <td>262435</td>\n",
       "      <td>56235</td>\n",
       "      <td>38877</td>\n",
       "      <td>748185</td>\n",
       "    </tr>\n",
       "    <tr>\n",
       "      <th>1</th>\n",
       "      <td>1</td>\n",
       "      <td>309002</td>\n",
       "      <td>19433</td>\n",
       "      <td>104470</td>\n",
       "      <td>26461</td>\n",
       "      <td>20840</td>\n",
       "      <td>480206</td>\n",
       "    </tr>\n",
       "    <tr>\n",
       "      <th>2</th>\n",
       "      <td>2</td>\n",
       "      <td>18821</td>\n",
       "      <td>911</td>\n",
       "      <td>6488</td>\n",
       "      <td>1243</td>\n",
       "      <td>836</td>\n",
       "      <td>28299</td>\n",
       "    </tr>\n",
       "  </tbody>\n",
       "</table>\n",
       "</div>"
      ],
      "text/plain": [
       "   Teenhome  MntWines  MntFruits  MntMeatProducts  MntFishProducts  \\\n",
       "0         0    352215      38423           262435            56235   \n",
       "1         1    309002      19433           104470            26461   \n",
       "2         2     18821        911             6488             1243   \n",
       "\n",
       "   MntSweetProducts   Total  \n",
       "0             38877  748185  \n",
       "1             20840  480206  \n",
       "2               836   28299  "
      ]
     },
     "execution_count": 53,
     "metadata": {},
     "output_type": "execute_result"
    }
   ],
   "source": [
    "df_teen = data.groupby('Teenhome')[['MntWines', 'MntFruits', 'MntMeatProducts', 'MntFishProducts', 'MntSweetProducts']].sum().reset_index()\n",
    "df_teen['Total'] = df_teen[['MntWines', 'MntFruits', 'MntMeatProducts', 'MntFishProducts', 'MntSweetProducts']].apply(sum, axis = 1)\n",
    "df_teen"
   ]
  },
  {
   "cell_type": "markdown",
   "id": "8dd24dac-02d6-436d-a39b-c33196e5b5de",
   "metadata": {},
   "source": [
    "**Conclusion:** As for children, we can observe that the number of teenagers also plays a role in consumer purchases. However, we see that customers without teenagers consume much less than people without children (to see if customers without teenagers also have no children) ."
   ]
  },
  {
   "cell_type": "markdown",
   "id": "1c8f069c-87b2-4033-bc8e-325dca464084",
   "metadata": {},
   "source": [
    "# Analysis report\n",
    "\n",
    "* **Age** - The mean/median age of people who answer positively is similar to those who answer negatively and is 53-54 years old.\n",
    "* **Purchases by category** - We can see that at first glance those who have made the most purchases are those who are most likely to join a Gold card.\n",
    "     * The most interesting value is about those who have made a purchase through the catalog: Those who join the 'Gold' project are those who have a median of 4 purchases on this platform against those who have not joined who have a median of 1 purchase to their credit.\n",
    "     * The second category that could be interesting would be that of purchases made via the company's website. Those who join the 'Gold' project are those who have made a median of 5 purchases on this platform against those who have not joined who have a median of 3 purchases to their credit.\n",
    "     * There is finally the last category (Number of purchases made at the company store), where in my opinion no conclusion is possible because, not containing outliers, the average is therefore a good metric of evaluation and their score is almost identical in both cases (5.74 for 6.09).\n",
    "* **Complain / Purchase**: We can see that those who complained still purchased products and the number of purchases they made is very similar to those who did not complain (it seems that people's complaints have no influence on their future purchase)\n",
    "* **Complain/Response** We were able to use the `pearson` statistical test and observe that we have no correlation between the `complain` variable and the `response` variable. Which means just because people complain doesn't mean they won't buy into the 'Gold' project.\n",
    "* **Dt_Customer / Purchase:**\n",
    "    * We see that the month of August (we can also include the months October, January and December) is a month where customers make the most purchases. It would therefore be interesting to offer the 'Gold' offer in one of these months (months to avoid: June - July).\n",
    "    * We can see that customers who signed up in 2013 have more than twice as many orders in their assets as those who signed up in 2012 or 2014\n",
    "* **MntWines, MntFruits, MntMeatProducts, MntFishProducts, MntSweetProducts:**\n",
    "     * We note that wines are by far the most purchased products followed by meat (almost twice a month) followed by far by fish, sweet products and fruits.\n",
    "     * We see that those who joined the 'Gold' project follow the logic of the biggest buyers. That is to say it is the consumers of wine in the first place then those of meat...\n",
    "* **Income / Response:**\n",
    "     * We see that the people who have the most substantial income are those who have subscribed to the 'Gold' project. On average, people with incomes over $64,000 are more likely to join. **Beware, however, of this conclusion and the extreme values because, for example, the person with the highest income from this table has not taken out a subscription.**\n",
    "     * We see that people with high incomes have the most purchases under their belt.\n",
    "* **Kidhome / MntProducts:**\n",
    "     * We see that there is a huge impact that the number of children creates on customer purchases. Customers without children make up 70% of total purchases! Those with 1 child make up 28% of the total, while those with 2 children make up **only** 1.4% of the total!\n",
    "     * As for children, we can observe that the number of teenagers also plays a role in consumer purchases. However, we see that customers without teenagers consume much less than people without children (to see if customers without teenagers also have no children) ."
   ]
  }
 ],
 "metadata": {
  "kernelspec": {
   "display_name": "Python 3 (ipykernel)",
   "language": "python",
   "name": "python3"
  },
  "language_info": {
   "codemirror_mode": {
    "name": "ipython",
    "version": 3
   },
   "file_extension": ".py",
   "mimetype": "text/x-python",
   "name": "python",
   "nbconvert_exporter": "python",
   "pygments_lexer": "ipython3",
   "version": "3.9.12"
  }
 },
 "nbformat": 4,
 "nbformat_minor": 5
}
